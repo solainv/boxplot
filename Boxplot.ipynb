{
 "cells": [
  {
   "cell_type": "markdown",
   "id": "eefee8f8-c11b-4e6d-a3db-636eeac63068",
   "metadata": {},
   "source": [
    "## Boxplot"
   ]
  },
  {
   "cell_type": "markdown",
   "id": "7841ed96-af1e-4803-8dd0-35e0e41b41c7",
   "metadata": {},
   "source": [
    "### Definition:\n",
    "Boxplot stellt die Verteilung eines Datensatzes zusammen mit wichtigen statistischen Kennzahlen dar. Es zeigt den Interquartilsbereich IQR in einem Kästchen, den Median als Linie innehalb des Kätschens und die Datenbereich außerhalb des Kästschens als Whiskers(Ausreßer). Ausreißer werden als einzelne Datenpunkte jenseits der Whiskers gezeigt.\n",
    "\n",
    "### Verwendung:\n",
    "- Vergleich der Verteilung einer kontinuierlichen Variable über veschiedene Kategorien oder Gruppen z.B. Gehälter von Mitarbeitern in verschiedene Abteilungen\n",
    "- Untersuchung der Steunung und schiefe von Datensätzen\n",
    "- Visualizierung von Quartilen und Ausreißern.\n",
    "- Vergleich der Verteilungen mehrerer Variablen nebeneinander."
   ]
  },
  {
   "cell_type": "code",
   "execution_count": 1,
   "id": "5869b80e-5e50-45a4-a3ed-9c1a6f4a409c",
   "metadata": {},
   "outputs": [],
   "source": [
    "# Daten importieren"
   ]
  },
  {
   "cell_type": "markdown",
   "id": "4e2fb67f-e0cb-4b26-93b7-8f4ee6fc26e6",
   "metadata": {},
   "source": [
    "### Übersicht über Daten:\n",
    "Die Daten umfassen den Gender Wage Gap bzw. den Unterschied im durchschnittlichen Einkommen zwischen Männer und Frauen in verschiedenen Ländern über die Jahre von 1981 bis 2016. Ein Gender Wage Gap von 12% bedeutet, dass Frauen im Durchschnitt 12% weniger  als Männer verdienen, während -15 % bedeutet, dass Frauen im Durchschnitt 15% mehr als Männer verdienen"
   ]
  },
  {
   "cell_type": "code",
   "execution_count": 2,
   "id": "0c2285d1-c9d0-421e-99ce-60e5aeca307b",
   "metadata": {},
   "outputs": [
    {
     "data": {
      "text/html": [
       "<div>\n",
       "<style scoped>\n",
       "    .dataframe tbody tr th:only-of-type {\n",
       "        vertical-align: middle;\n",
       "    }\n",
       "\n",
       "    .dataframe tbody tr th {\n",
       "        vertical-align: top;\n",
       "    }\n",
       "\n",
       "    .dataframe thead th {\n",
       "        text-align: right;\n",
       "    }\n",
       "</style>\n",
       "<table border=\"1\" class=\"dataframe\">\n",
       "  <thead>\n",
       "    <tr style=\"text-align: right;\">\n",
       "      <th></th>\n",
       "      <th>country</th>\n",
       "      <th>Code</th>\n",
       "      <th>Year</th>\n",
       "      <th>Gender wage gap %</th>\n",
       "    </tr>\n",
       "  </thead>\n",
       "  <tbody>\n",
       "    <tr>\n",
       "      <th>0</th>\n",
       "      <td>Brazil</td>\n",
       "      <td>BRA</td>\n",
       "      <td>1981</td>\n",
       "      <td>34.21</td>\n",
       "    </tr>\n",
       "    <tr>\n",
       "      <th>1</th>\n",
       "      <td>Brazil</td>\n",
       "      <td>BRA</td>\n",
       "      <td>1982</td>\n",
       "      <td>33.66</td>\n",
       "    </tr>\n",
       "    <tr>\n",
       "      <th>2</th>\n",
       "      <td>Brazil</td>\n",
       "      <td>BRA</td>\n",
       "      <td>1983</td>\n",
       "      <td>35.75</td>\n",
       "    </tr>\n",
       "    <tr>\n",
       "      <th>3</th>\n",
       "      <td>Brazil</td>\n",
       "      <td>BRA</td>\n",
       "      <td>1984</td>\n",
       "      <td>34.04</td>\n",
       "    </tr>\n",
       "    <tr>\n",
       "      <th>4</th>\n",
       "      <td>Brazil</td>\n",
       "      <td>BRA</td>\n",
       "      <td>1985</td>\n",
       "      <td>28.58</td>\n",
       "    </tr>\n",
       "  </tbody>\n",
       "</table>\n",
       "</div>"
      ],
      "text/plain": [
       "  country Code  Year  Gender wage gap %\n",
       "0  Brazil  BRA  1981              34.21\n",
       "1  Brazil  BRA  1982              33.66\n",
       "2  Brazil  BRA  1983              35.75\n",
       "3  Brazil  BRA  1984              34.04\n",
       "4  Brazil  BRA  1985              28.58"
      ]
     },
     "execution_count": 2,
     "metadata": {},
     "output_type": "execute_result"
    }
   ],
   "source": [
    "import pandas as pd\n",
    "df = pd.read_csv('https://raw.githubusercontent.com/solainv/boxplot/main/gendergapinaverage.csv')\n",
    "df.head()"
   ]
  },
  {
   "cell_type": "code",
   "execution_count": 3,
   "id": "d66d9064-c703-453a-a9d3-870584681d6d",
   "metadata": {},
   "outputs": [
    {
     "data": {
      "text/plain": [
       "country\n",
       "Brazil        30\n",
       "Argentina     27\n",
       "Honduras      22\n",
       "Costa Rica    21\n",
       "Panama        21\n",
       "              ..\n",
       "Denmark        1\n",
       "Bulgaria       1\n",
       "Brunei         1\n",
       "Haiti          1\n",
       "Thailand       1\n",
       "Name: count, Length: 64, dtype: int64"
      ]
     },
     "execution_count": 3,
     "metadata": {},
     "output_type": "execute_result"
    }
   ],
   "source": [
    "df['country'].value_counts()"
   ]
  },
  {
   "cell_type": "code",
   "execution_count": 4,
   "id": "264519d0-b38a-4463-bccb-4882afec1069",
   "metadata": {},
   "outputs": [],
   "source": [
    "Argentina = df['country']=='Argentina'"
   ]
  },
  {
   "cell_type": "code",
   "execution_count": 5,
   "id": "4c6193f9-0f83-41ba-afda-5ce64e46bb67",
   "metadata": {},
   "outputs": [
    {
     "data": {
      "text/plain": [
       "<Axes: >"
      ]
     },
     "execution_count": 5,
     "metadata": {},
     "output_type": "execute_result"
    },
    {
     "data": {
      "image/png": "[encoded data removed]",
      "text/plain": [
       "<Figure size 640x480 with 1 Axes>"
      ]
     },
     "metadata": {},
     "output_type": "display_data"
    }
   ],
   "source": [
    "df[Argentina].boxplot(column='Gender wage gap %')"
   ]
  },
  {
   "cell_type": "markdown",
   "id": "721f4e6e-d7dc-479c-969c-8c1e44834a3a",
   "metadata": {},
   "source": [
    "- Der Median beträgt etwa 2.5\n",
    "- Für das Land Argentinasind keine Ausreißer vorhanden\n",
    "- Der Interquarilbereich ist [-0.5, 7]"
   ]
  }
 ],
 "metadata": {
  "kernelspec": {
   "display_name": "Python 3 (ipykernel)",
   "language": "python",
   "name": "python3"
  },
  "language_info": {
   "codemirror_mode": {
    "name": "ipython",
    "version": 3
   },
   "file_extension": ".py",
   "mimetype": "text/x-python",
   "name": "python",
   "nbconvert_exporter": "python",
   "pygments_lexer": "ipython3",
   "version": "3.11.7"
  }
 },
 "nbformat": 4,
 "nbformat_minor": 5
}
